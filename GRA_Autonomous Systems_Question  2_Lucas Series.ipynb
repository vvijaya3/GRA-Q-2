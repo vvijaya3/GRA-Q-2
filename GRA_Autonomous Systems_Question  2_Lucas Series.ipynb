{
 "cells": [
  {
   "cell_type": "code",
   "execution_count": 2,
   "metadata": {},
   "outputs": [
    {
     "name": "stdout",
     "output_type": "stream",
     "text": [
      "3\n",
      "11\n",
      "123\n"
     ]
    }
   ],
   "source": [
    "# Python function to calculate the lucas series or number\n",
    "\n",
    "def lucas(n):\n",
    "\n",
    "    # for n=0\n",
    "\n",
    "    if n == 0:\n",
    "\n",
    "        return 2\n",
    "\n",
    "    # for n=1\n",
    "\n",
    "    if n == 1:\n",
    "\n",
    "        return 1\n",
    "\n",
    "    # else\n",
    "\n",
    "    return lucas(n-1)+lucas(n-2)\n",
    "\n",
    "\n",
    "# print the results for the below values of n:\n",
    "\n",
    "# a) n = 2\n",
    "\n",
    "print(lucas(2))\n",
    "\n",
    "# b) n = 5\n",
    "\n",
    "print(lucas(5))\n",
    "\n",
    "# c) n = 10\n",
    "\n",
    "print(lucas(10))"
   ]
  },
  {
   "cell_type": "code",
   "execution_count": null,
   "metadata": {},
   "outputs": [],
   "source": []
  }
 ],
 "metadata": {
  "kernelspec": {
   "display_name": "Python 3",
   "language": "python",
   "name": "python3"
  },
  "language_info": {
   "codemirror_mode": {
    "name": "ipython",
    "version": 3
   },
   "file_extension": ".py",
   "mimetype": "text/x-python",
   "name": "python",
   "nbconvert_exporter": "python",
   "pygments_lexer": "ipython3",
   "version": "3.7.3"
  }
 },
 "nbformat": 4,
 "nbformat_minor": 2
}
